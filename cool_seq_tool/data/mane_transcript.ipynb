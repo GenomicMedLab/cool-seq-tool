{
 "cells": [
  {
   "cell_type": "code",
   "execution_count": 5,
   "metadata": {},
   "outputs": [],
   "source": [
    "from cool_seq_tool.schemas import GenomicData, TranscriptExonData, ResidueMode, \\\n",
    "    GenomicDataResponse, ServiceMeta, TranscriptExonDataResponse\n",
    "from cool_seq_tool.data_sources import MANETranscriptMappings,\\\n",
    "    SeqRepoAccess, TranscriptMappings, UTADatabase\n",
    "from cool_seq_tool import SEQREPO_DATA_PATH, \\\n",
    "    TRANSCRIPT_MAPPINGS_PATH, LRG_REFSEQGENE_PATH, MANE_SUMMARY_PATH, \\\n",
    "    UTA_DB_URL\n",
    "from cool_seq_tool.mane_transcript import MANETranscript\n",
    "import pandas as pd\n",
    "from cool_seq_tool.schemas import Assembly, AnnotationLayer, ResidueMode\n",
    "\n",
    "from cool_seq_tool import CoolSeqTool, logger\n",
    "import os\n",
    "\n",
    "os.environ[\"UTA_PASSWORD\"] = \"admin\"\n",
    "os.environ[\"GENE_NORM_ENV\"] = \"Prod\"\n",
    "os.environ[\"SKIP_AWS_CONFIRMATION\"] = \"true\"\n"
   ]
  },
  {
   "cell_type": "code",
   "execution_count": 3,
   "metadata": {},
   "outputs": [],
   "source": [
    "cool_seq_tool = CoolSeqTool()"
   ]
  },
  {
   "cell_type": "code",
   "execution_count": 7,
   "metadata": {},
   "outputs": [
    {
     "name": "stdout",
     "output_type": "stream",
     "text": [
      "\n",
      "{'g_ac': 'NC_000007.14', 'g_start_pos': 140753335, 'g_end_pos': 140753335}\n",
      "NC_000007.14 140753335 140753335 NM_001378467.1 226\n",
      "genomic_tx_data {'gene': 'BRAF', 'strand': '-', 'tx_pos_range': (1976, 2095), 'alt_pos_range': (140753274, 140753393), 'alt_aln_method': 'splign', 'tx_exon_id': 8479472, 'alt_exon_id': 9394201, 'tx_ac': 'NM_001378467.1', 'alt_ac': 'NC_000007.14', 'pos_change': (140751358, -140751239), 'alt_pos_change_range': (140753334, 140753334)}\n",
      "c_data {'c_ac': 'NM_001378467.1', 'c_start_pos': 1809, 'c_end_pos': 1809, 'cds_start': 226, 'residue_mode': 'inter-residue', 'strand': '-'}\n",
      "c_data updated {'c_ac': 'NM_001378467.1', 'c_start_pos': 1809, 'c_end_pos': 1810, 'cds_start': 226, 'residue_mode': 'inter-residue', 'strand': '-'}\n"
     ]
    },
    {
     "data": {
      "text/plain": [
       "{'refseq': 'NM_001378467.1',\n",
       " 'ensembl': None,\n",
       " 'pos': (1809, 1810),\n",
       " 'strand': '-',\n",
       " 'status': 'longest_compatible_remaining'}"
      ]
     },
     "execution_count": 7,
     "metadata": {},
     "output_type": "execute_result"
    }
   ],
   "source": [
    "await cool_seq_tool.mane_transcript.get_longest_compatible_transcript(\n",
    "        \"BRAF\", 140453136, 140453136, start_annotation_layer=AnnotationLayer.GENOMIC,\n",
    "        mane_transcripts={\"NM_001374258.1\"}, alt_ac=\"NC_000007.13\")"
   ]
  },
  {
   "cell_type": "code",
   "execution_count": null,
   "metadata": {},
   "outputs": [],
   "source": []
  }
 ],
 "metadata": {
  "kernelspec": {
   "display_name": "cool-seq-tool-2h1cvkOU",
   "language": "python",
   "name": "python3"
  },
  "language_info": {
   "codemirror_mode": {
    "name": "ipython",
    "version": 3
   },
   "file_extension": ".py",
   "mimetype": "text/x-python",
   "name": "python",
   "nbconvert_exporter": "python",
   "pygments_lexer": "ipython3",
   "version": "3.10.8"
  },
  "orig_nbformat": 4
 },
 "nbformat": 4,
 "nbformat_minor": 2
}
